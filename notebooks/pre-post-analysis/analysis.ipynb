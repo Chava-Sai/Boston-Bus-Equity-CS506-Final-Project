{
 "cells": [
  {
   "cell_type": "code",
   "execution_count": 22,
   "id": "c53d4419",
   "metadata": {},
   "outputs": [],
   "source": [
    "# import numpy as np\n",
    "import pandas as pd\n",
    "import seaborn as sns\n",
    "import matplotlib.pyplot as plt"
   ]
  },
  {
   "cell_type": "markdown",
   "id": "9d3ce40c",
   "metadata": {},
   "source": [
    "Data can be found at: <a href=\"https://mbta-massdot.opendata.arcgis.com/datasets/7acd353c1a734eb8a23caf46a0e66b23_0/explore\">MBTA_Bus_Ridership_by_Time_Period_Fall</a> "
   ]
  },
  {
   "cell_type": "code",
   "execution_count": 2,
   "id": "bf72f0fa",
   "metadata": {},
   "outputs": [
    {
     "name": "stderr",
     "output_type": "stream",
     "text": [
      "C:\\Users\\hanna\\AppData\\Local\\Temp\\ipykernel_36012\\3019257522.py:1: DtypeWarning: Columns (2,3) have mixed types. Specify dtype option on import or set low_memory=False.\n",
      "  df = pd.read_csv(\"../../data/MBTA_Bus_Ridership_by_Time_Period_Fall.csv\")\n"
     ]
    }
   ],
   "source": [
    "df = pd.read_csv(\"../../data/MBTA_Bus_Ridership_by_Time_Period_Fall.csv\")"
   ]
  },
  {
   "cell_type": "markdown",
   "id": "70b94cef",
   "metadata": {},
   "source": [
    "### **1. Initial checks**"
   ]
  },
  {
   "cell_type": "code",
   "execution_count": 3,
   "id": "f2c8c3f1",
   "metadata": {},
   "outputs": [
    {
     "data": {
      "text/html": [
       "<div>\n",
       "<style scoped>\n",
       "    .dataframe tbody tr th:only-of-type {\n",
       "        vertical-align: middle;\n",
       "    }\n",
       "\n",
       "    .dataframe tbody tr th {\n",
       "        vertical-align: top;\n",
       "    }\n",
       "\n",
       "    .dataframe thead th {\n",
       "        text-align: right;\n",
       "    }\n",
       "</style>\n",
       "<table border=\"1\" class=\"dataframe\">\n",
       "  <thead>\n",
       "    <tr style=\"text-align: right;\">\n",
       "      <th></th>\n",
       "      <th>mode</th>\n",
       "      <th>season</th>\n",
       "      <th>route_id</th>\n",
       "      <th>route_name</th>\n",
       "      <th>route_variant</th>\n",
       "      <th>stop_sequence</th>\n",
       "      <th>direction_id</th>\n",
       "      <th>day_type_id</th>\n",
       "      <th>day_type_name</th>\n",
       "      <th>time_period_id</th>\n",
       "      <th>time_period_name</th>\n",
       "      <th>stop_name</th>\n",
       "      <th>stop_id</th>\n",
       "      <th>average_ons</th>\n",
       "      <th>average_offs</th>\n",
       "      <th>average_load</th>\n",
       "      <th>num_trips</th>\n",
       "      <th>ons_all_trips</th>\n",
       "      <th>ObjectId</th>\n",
       "    </tr>\n",
       "  </thead>\n",
       "  <tbody>\n",
       "    <tr>\n",
       "      <th>0</th>\n",
       "      <td>3</td>\n",
       "      <td>Fall 2016</td>\n",
       "      <td>1</td>\n",
       "      <td>1</td>\n",
       "      <td>1-_-0</td>\n",
       "      <td>19</td>\n",
       "      <td>0</td>\n",
       "      <td>day_type_01</td>\n",
       "      <td>weekday</td>\n",
       "      <td>time_period_06</td>\n",
       "      <td>PM_PEAK</td>\n",
       "      <td>MASSACHUSETTS AVE @ SIDNEY ST</td>\n",
       "      <td>101</td>\n",
       "      <td>1.400000</td>\n",
       "      <td>2.636842</td>\n",
       "      <td>32.894737</td>\n",
       "      <td>19</td>\n",
       "      <td>26.6</td>\n",
       "      <td>1</td>\n",
       "    </tr>\n",
       "    <tr>\n",
       "      <th>1</th>\n",
       "      <td>3</td>\n",
       "      <td>Fall 2016</td>\n",
       "      <td>1</td>\n",
       "      <td>1</td>\n",
       "      <td>1-_-0</td>\n",
       "      <td>20</td>\n",
       "      <td>0</td>\n",
       "      <td>day_type_01</td>\n",
       "      <td>weekday</td>\n",
       "      <td>time_period_06</td>\n",
       "      <td>PM_PEAK</td>\n",
       "      <td>MASSACHUSETTS AVE @ PROSPECT</td>\n",
       "      <td>102</td>\n",
       "      <td>3.868421</td>\n",
       "      <td>10.178947</td>\n",
       "      <td>26.584211</td>\n",
       "      <td>19</td>\n",
       "      <td>73.5</td>\n",
       "      <td>2</td>\n",
       "    </tr>\n",
       "    <tr>\n",
       "      <th>2</th>\n",
       "      <td>3</td>\n",
       "      <td>Fall 2016</td>\n",
       "      <td>1</td>\n",
       "      <td>1</td>\n",
       "      <td>1-_-0</td>\n",
       "      <td>21</td>\n",
       "      <td>0</td>\n",
       "      <td>day_type_01</td>\n",
       "      <td>weekday</td>\n",
       "      <td>time_period_06</td>\n",
       "      <td>PM_PEAK</td>\n",
       "      <td>MASSACHUSETTS AVE @ BIGELOW S</td>\n",
       "      <td>104</td>\n",
       "      <td>1.521053</td>\n",
       "      <td>1.168421</td>\n",
       "      <td>26.936842</td>\n",
       "      <td>19</td>\n",
       "      <td>28.9</td>\n",
       "      <td>3</td>\n",
       "    </tr>\n",
       "    <tr>\n",
       "      <th>3</th>\n",
       "      <td>3</td>\n",
       "      <td>Fall 2016</td>\n",
       "      <td>1</td>\n",
       "      <td>1</td>\n",
       "      <td>1-_-0</td>\n",
       "      <td>22</td>\n",
       "      <td>0</td>\n",
       "      <td>day_type_01</td>\n",
       "      <td>weekday</td>\n",
       "      <td>time_period_06</td>\n",
       "      <td>PM_PEAK</td>\n",
       "      <td>MASSACHUSETTS AVE @ HANCOCK S</td>\n",
       "      <td>106</td>\n",
       "      <td>0.321053</td>\n",
       "      <td>1.621053</td>\n",
       "      <td>25.626316</td>\n",
       "      <td>19</td>\n",
       "      <td>6.1</td>\n",
       "      <td>4</td>\n",
       "    </tr>\n",
       "    <tr>\n",
       "      <th>4</th>\n",
       "      <td>3</td>\n",
       "      <td>Fall 2016</td>\n",
       "      <td>1</td>\n",
       "      <td>1</td>\n",
       "      <td>1-_-0</td>\n",
       "      <td>23</td>\n",
       "      <td>0</td>\n",
       "      <td>day_type_01</td>\n",
       "      <td>weekday</td>\n",
       "      <td>time_period_06</td>\n",
       "      <td>PM_PEAK</td>\n",
       "      <td>MASSACHUSETTS AVE @ DANA ST</td>\n",
       "      <td>107</td>\n",
       "      <td>0.647368</td>\n",
       "      <td>3.336842</td>\n",
       "      <td>22.942105</td>\n",
       "      <td>19</td>\n",
       "      <td>12.3</td>\n",
       "      <td>5</td>\n",
       "    </tr>\n",
       "  </tbody>\n",
       "</table>\n",
       "</div>"
      ],
      "text/plain": [
       "   mode     season route_id route_name route_variant  stop_sequence  \\\n",
       "0     3  Fall 2016        1          1         1-_-0             19   \n",
       "1     3  Fall 2016        1          1         1-_-0             20   \n",
       "2     3  Fall 2016        1          1         1-_-0             21   \n",
       "3     3  Fall 2016        1          1         1-_-0             22   \n",
       "4     3  Fall 2016        1          1         1-_-0             23   \n",
       "\n",
       "   direction_id  day_type_id day_type_name  time_period_id time_period_name  \\\n",
       "0             0  day_type_01       weekday  time_period_06          PM_PEAK   \n",
       "1             0  day_type_01       weekday  time_period_06          PM_PEAK   \n",
       "2             0  day_type_01       weekday  time_period_06          PM_PEAK   \n",
       "3             0  day_type_01       weekday  time_period_06          PM_PEAK   \n",
       "4             0  day_type_01       weekday  time_period_06          PM_PEAK   \n",
       "\n",
       "                       stop_name  stop_id  average_ons  average_offs  \\\n",
       "0  MASSACHUSETTS AVE @ SIDNEY ST      101     1.400000      2.636842   \n",
       "1   MASSACHUSETTS AVE @ PROSPECT      102     3.868421     10.178947   \n",
       "2  MASSACHUSETTS AVE @ BIGELOW S      104     1.521053      1.168421   \n",
       "3  MASSACHUSETTS AVE @ HANCOCK S      106     0.321053      1.621053   \n",
       "4    MASSACHUSETTS AVE @ DANA ST      107     0.647368      3.336842   \n",
       "\n",
       "   average_load  num_trips  ons_all_trips  ObjectId  \n",
       "0     32.894737         19           26.6         1  \n",
       "1     26.584211         19           73.5         2  \n",
       "2     26.936842         19           28.9         3  \n",
       "3     25.626316         19            6.1         4  \n",
       "4     22.942105         19           12.3         5  "
      ]
     },
     "execution_count": 3,
     "metadata": {},
     "output_type": "execute_result"
    }
   ],
   "source": [
    "df.head()"
   ]
  },
  {
   "cell_type": "code",
   "execution_count": 4,
   "id": "65821dad",
   "metadata": {},
   "outputs": [
    {
     "name": "stdout",
     "output_type": "stream",
     "text": [
      "<class 'pandas.core.frame.DataFrame'>\n",
      "RangeIndex: 1086511 entries, 0 to 1086510\n",
      "Data columns (total 19 columns):\n",
      " #   Column            Non-Null Count    Dtype  \n",
      "---  ------            --------------    -----  \n",
      " 0   mode              1086511 non-null  int64  \n",
      " 1   season            1086511 non-null  object \n",
      " 2   route_id          1086511 non-null  object \n",
      " 3   route_name        1086511 non-null  object \n",
      " 4   route_variant     1086511 non-null  object \n",
      " 5   stop_sequence     1086511 non-null  int64  \n",
      " 6   direction_id      1086511 non-null  int64  \n",
      " 7   day_type_id       1086511 non-null  object \n",
      " 8   day_type_name     1086511 non-null  object \n",
      " 9   time_period_id    1086511 non-null  object \n",
      " 10  time_period_name  1086511 non-null  object \n",
      " 11  stop_name         1086511 non-null  object \n",
      " 12  stop_id           1086511 non-null  int64  \n",
      " 13  average_ons       1086511 non-null  float64\n",
      " 14  average_offs      1086511 non-null  float64\n",
      " 15  average_load      1086510 non-null  float64\n",
      " 16  num_trips         1086511 non-null  int64  \n",
      " 17  ons_all_trips     1086511 non-null  float64\n",
      " 18  ObjectId          1086511 non-null  int64  \n",
      "dtypes: float64(4), int64(6), object(9)\n",
      "memory usage: 157.5+ MB\n"
     ]
    }
   ],
   "source": [
    "df.info()"
   ]
  },
  {
   "cell_type": "code",
   "execution_count": 11,
   "id": "87f58df6",
   "metadata": {},
   "outputs": [
    {
     "data": {
      "text/plain": [
       "array(['Fall 2016', 'Fall 2017', 'Fall 2018', 'Fall 2019', 'Fall 2020',\n",
       "       'Fall 2021', 'Fall 2022', 'Fall 2023', 'Fall 2024'], dtype=object)"
      ]
     },
     "execution_count": 11,
     "metadata": {},
     "output_type": "execute_result"
    }
   ],
   "source": [
    "df['season'].unique()"
   ]
  },
  {
   "cell_type": "code",
   "execution_count": 12,
   "id": "11dcba77",
   "metadata": {},
   "outputs": [
    {
     "data": {
      "text/plain": [
       "season\n",
       "Fall 2018    134352\n",
       "Fall 2017    134221\n",
       "Fall 2016    132848\n",
       "Fall 2019    128457\n",
       "Fall 2020    117145\n",
       "Fall 2021    112548\n",
       "Fall 2023    109131\n",
       "Fall 2022    109116\n",
       "Fall 2024    108692\n",
       "Name: count, dtype: int64"
      ]
     },
     "execution_count": 12,
     "metadata": {},
     "output_type": "execute_result"
    }
   ],
   "source": [
    "df['season'].value_counts()"
   ]
  },
  {
   "cell_type": "code",
   "execution_count": 5,
   "id": "37b219ca",
   "metadata": {},
   "outputs": [
    {
     "data": {
      "text/plain": [
       "mode                0\n",
       "season              0\n",
       "route_id            0\n",
       "route_name          0\n",
       "route_variant       0\n",
       "stop_sequence       0\n",
       "direction_id        0\n",
       "day_type_id         0\n",
       "day_type_name       0\n",
       "time_period_id      0\n",
       "time_period_name    0\n",
       "stop_name           0\n",
       "stop_id             0\n",
       "average_ons         0\n",
       "average_offs        0\n",
       "average_load        1\n",
       "num_trips           0\n",
       "ons_all_trips       0\n",
       "ObjectId            0\n",
       "dtype: int64"
      ]
     },
     "execution_count": 5,
     "metadata": {},
     "output_type": "execute_result"
    }
   ],
   "source": [
    "df.isna().sum()"
   ]
  },
  {
   "cell_type": "markdown",
   "id": "bbddb9d3",
   "metadata": {},
   "source": [
    "Looks like there's one null column. We will drop this in step 2"
   ]
  },
  {
   "cell_type": "code",
   "execution_count": 6,
   "id": "99c72fb1",
   "metadata": {},
   "outputs": [
    {
     "data": {
      "text/html": [
       "<div>\n",
       "<style scoped>\n",
       "    .dataframe tbody tr th:only-of-type {\n",
       "        vertical-align: middle;\n",
       "    }\n",
       "\n",
       "    .dataframe tbody tr th {\n",
       "        vertical-align: top;\n",
       "    }\n",
       "\n",
       "    .dataframe thead th {\n",
       "        text-align: right;\n",
       "    }\n",
       "</style>\n",
       "<table border=\"1\" class=\"dataframe\">\n",
       "  <thead>\n",
       "    <tr style=\"text-align: right;\">\n",
       "      <th></th>\n",
       "      <th>mode</th>\n",
       "      <th>stop_sequence</th>\n",
       "      <th>direction_id</th>\n",
       "      <th>stop_id</th>\n",
       "      <th>average_ons</th>\n",
       "      <th>average_offs</th>\n",
       "      <th>average_load</th>\n",
       "      <th>num_trips</th>\n",
       "      <th>ons_all_trips</th>\n",
       "      <th>ObjectId</th>\n",
       "    </tr>\n",
       "  </thead>\n",
       "  <tbody>\n",
       "    <tr>\n",
       "      <th>count</th>\n",
       "      <td>1086511.0</td>\n",
       "      <td>1.086511e+06</td>\n",
       "      <td>1.086511e+06</td>\n",
       "      <td>1.086511e+06</td>\n",
       "      <td>1.086511e+06</td>\n",
       "      <td>1.086511e+06</td>\n",
       "      <td>1.086510e+06</td>\n",
       "      <td>1.086511e+06</td>\n",
       "      <td>1.086511e+06</td>\n",
       "      <td>1.086511e+06</td>\n",
       "    </tr>\n",
       "    <tr>\n",
       "      <th>mean</th>\n",
       "      <td>3.0</td>\n",
       "      <td>2.703473e+01</td>\n",
       "      <td>4.958560e-01</td>\n",
       "      <td>1.088404e+04</td>\n",
       "      <td>5.934856e-01</td>\n",
       "      <td>5.987779e-01</td>\n",
       "      <td>9.551229e+00</td>\n",
       "      <td>6.929670e+00</td>\n",
       "      <td>5.233421e+00</td>\n",
       "      <td>5.432560e+05</td>\n",
       "    </tr>\n",
       "    <tr>\n",
       "      <th>std</th>\n",
       "      <td>0.0</td>\n",
       "      <td>3.689943e+01</td>\n",
       "      <td>4.999831e-01</td>\n",
       "      <td>1.945152e+04</td>\n",
       "      <td>1.879222e+00</td>\n",
       "      <td>2.023244e+00</td>\n",
       "      <td>8.155511e+00</td>\n",
       "      <td>1.150073e+01</td>\n",
       "      <td>2.863989e+01</td>\n",
       "      <td>3.136489e+05</td>\n",
       "    </tr>\n",
       "    <tr>\n",
       "      <th>min</th>\n",
       "      <td>3.0</td>\n",
       "      <td>0.000000e+00</td>\n",
       "      <td>0.000000e+00</td>\n",
       "      <td>1.000000e+00</td>\n",
       "      <td>0.000000e+00</td>\n",
       "      <td>-2.222222e-01</td>\n",
       "      <td>-3.533333e-01</td>\n",
       "      <td>1.000000e+00</td>\n",
       "      <td>0.000000e+00</td>\n",
       "      <td>1.000000e+00</td>\n",
       "    </tr>\n",
       "    <tr>\n",
       "      <th>25%</th>\n",
       "      <td>3.0</td>\n",
       "      <td>1.100000e+01</td>\n",
       "      <td>0.000000e+00</td>\n",
       "      <td>2.176000e+03</td>\n",
       "      <td>0.000000e+00</td>\n",
       "      <td>0.000000e+00</td>\n",
       "      <td>3.700000e+00</td>\n",
       "      <td>2.000000e+00</td>\n",
       "      <td>0.000000e+00</td>\n",
       "      <td>2.716285e+05</td>\n",
       "    </tr>\n",
       "    <tr>\n",
       "      <th>50%</th>\n",
       "      <td>3.0</td>\n",
       "      <td>2.300000e+01</td>\n",
       "      <td>0.000000e+00</td>\n",
       "      <td>4.761000e+03</td>\n",
       "      <td>1.000000e-01</td>\n",
       "      <td>1.000000e-01</td>\n",
       "      <td>7.400000e+00</td>\n",
       "      <td>3.000000e+00</td>\n",
       "      <td>4.000000e-01</td>\n",
       "      <td>5.432560e+05</td>\n",
       "    </tr>\n",
       "    <tr>\n",
       "      <th>75%</th>\n",
       "      <td>3.0</td>\n",
       "      <td>3.800000e+01</td>\n",
       "      <td>1.000000e+00</td>\n",
       "      <td>8.454000e+03</td>\n",
       "      <td>4.666667e-01</td>\n",
       "      <td>4.645161e-01</td>\n",
       "      <td>1.303333e+01</td>\n",
       "      <td>7.000000e+00</td>\n",
       "      <td>2.300000e+00</td>\n",
       "      <td>8.148835e+05</td>\n",
       "    </tr>\n",
       "    <tr>\n",
       "      <th>max</th>\n",
       "      <td>3.0</td>\n",
       "      <td>1.360000e+04</td>\n",
       "      <td>1.000000e+00</td>\n",
       "      <td>1.199130e+05</td>\n",
       "      <td>1.967000e+02</td>\n",
       "      <td>6.780000e+01</td>\n",
       "      <td>1.967000e+02</td>\n",
       "      <td>1.440000e+02</td>\n",
       "      <td>2.378400e+03</td>\n",
       "      <td>1.086511e+06</td>\n",
       "    </tr>\n",
       "  </tbody>\n",
       "</table>\n",
       "</div>"
      ],
      "text/plain": [
       "            mode  stop_sequence  direction_id       stop_id   average_ons  \\\n",
       "count  1086511.0   1.086511e+06  1.086511e+06  1.086511e+06  1.086511e+06   \n",
       "mean         3.0   2.703473e+01  4.958560e-01  1.088404e+04  5.934856e-01   \n",
       "std          0.0   3.689943e+01  4.999831e-01  1.945152e+04  1.879222e+00   \n",
       "min          3.0   0.000000e+00  0.000000e+00  1.000000e+00  0.000000e+00   \n",
       "25%          3.0   1.100000e+01  0.000000e+00  2.176000e+03  0.000000e+00   \n",
       "50%          3.0   2.300000e+01  0.000000e+00  4.761000e+03  1.000000e-01   \n",
       "75%          3.0   3.800000e+01  1.000000e+00  8.454000e+03  4.666667e-01   \n",
       "max          3.0   1.360000e+04  1.000000e+00  1.199130e+05  1.967000e+02   \n",
       "\n",
       "       average_offs  average_load     num_trips  ons_all_trips      ObjectId  \n",
       "count  1.086511e+06  1.086510e+06  1.086511e+06   1.086511e+06  1.086511e+06  \n",
       "mean   5.987779e-01  9.551229e+00  6.929670e+00   5.233421e+00  5.432560e+05  \n",
       "std    2.023244e+00  8.155511e+00  1.150073e+01   2.863989e+01  3.136489e+05  \n",
       "min   -2.222222e-01 -3.533333e-01  1.000000e+00   0.000000e+00  1.000000e+00  \n",
       "25%    0.000000e+00  3.700000e+00  2.000000e+00   0.000000e+00  2.716285e+05  \n",
       "50%    1.000000e-01  7.400000e+00  3.000000e+00   4.000000e-01  5.432560e+05  \n",
       "75%    4.645161e-01  1.303333e+01  7.000000e+00   2.300000e+00  8.148835e+05  \n",
       "max    6.780000e+01  1.967000e+02  1.440000e+02   2.378400e+03  1.086511e+06  "
      ]
     },
     "execution_count": 6,
     "metadata": {},
     "output_type": "execute_result"
    }
   ],
   "source": [
    "df.describe()"
   ]
  },
  {
   "cell_type": "markdown",
   "id": "870562e4",
   "metadata": {},
   "source": [
    "`mode` is the same for every row. Doesn't add anything so we can drop this in step 2.\n"
   ]
  },
  {
   "cell_type": "code",
   "execution_count": 7,
   "id": "5c8867c3",
   "metadata": {},
   "outputs": [
    {
     "data": {
      "text/html": [
       "<div>\n",
       "<style scoped>\n",
       "    .dataframe tbody tr th:only-of-type {\n",
       "        vertical-align: middle;\n",
       "    }\n",
       "\n",
       "    .dataframe tbody tr th {\n",
       "        vertical-align: top;\n",
       "    }\n",
       "\n",
       "    .dataframe thead th {\n",
       "        text-align: right;\n",
       "    }\n",
       "</style>\n",
       "<table border=\"1\" class=\"dataframe\">\n",
       "  <thead>\n",
       "    <tr style=\"text-align: right;\">\n",
       "      <th></th>\n",
       "      <th>season</th>\n",
       "      <th>route_id</th>\n",
       "      <th>route_name</th>\n",
       "      <th>route_variant</th>\n",
       "      <th>day_type_id</th>\n",
       "      <th>day_type_name</th>\n",
       "      <th>time_period_id</th>\n",
       "      <th>time_period_name</th>\n",
       "      <th>stop_name</th>\n",
       "    </tr>\n",
       "  </thead>\n",
       "  <tbody>\n",
       "    <tr>\n",
       "      <th>count</th>\n",
       "      <td>1086511</td>\n",
       "      <td>1086511</td>\n",
       "      <td>1086511</td>\n",
       "      <td>1086511</td>\n",
       "      <td>1086511</td>\n",
       "      <td>1086511</td>\n",
       "      <td>1086511</td>\n",
       "      <td>1086511</td>\n",
       "      <td>1086511</td>\n",
       "    </tr>\n",
       "    <tr>\n",
       "      <th>unique</th>\n",
       "      <td>9</td>\n",
       "      <td>330</td>\n",
       "      <td>309</td>\n",
       "      <td>1069</td>\n",
       "      <td>3</td>\n",
       "      <td>3</td>\n",
       "      <td>11</td>\n",
       "      <td>10</td>\n",
       "      <td>7578</td>\n",
       "    </tr>\n",
       "    <tr>\n",
       "      <th>top</th>\n",
       "      <td>Fall 2018</td>\n",
       "      <td>34E</td>\n",
       "      <td>34E</td>\n",
       "      <td>240-1-1</td>\n",
       "      <td>day_type_01</td>\n",
       "      <td>weekday</td>\n",
       "      <td>time_period_05</td>\n",
       "      <td>OFF_PEAK</td>\n",
       "      <td>FOREST HILLS STATION UPPER BU</td>\n",
       "    </tr>\n",
       "    <tr>\n",
       "      <th>freq</th>\n",
       "      <td>134352</td>\n",
       "      <td>27608</td>\n",
       "      <td>27608</td>\n",
       "      <td>7755</td>\n",
       "      <td>886311</td>\n",
       "      <td>886311</td>\n",
       "      <td>132424</td>\n",
       "      <td>200200</td>\n",
       "      <td>2481</td>\n",
       "    </tr>\n",
       "  </tbody>\n",
       "</table>\n",
       "</div>"
      ],
      "text/plain": [
       "           season route_id route_name route_variant  day_type_id  \\\n",
       "count     1086511  1086511    1086511       1086511      1086511   \n",
       "unique          9      330        309          1069            3   \n",
       "top     Fall 2018      34E        34E       240-1-1  day_type_01   \n",
       "freq       134352    27608      27608          7755       886311   \n",
       "\n",
       "       day_type_name  time_period_id time_period_name  \\\n",
       "count        1086511         1086511          1086511   \n",
       "unique             3              11               10   \n",
       "top          weekday  time_period_05         OFF_PEAK   \n",
       "freq          886311          132424           200200   \n",
       "\n",
       "                            stop_name  \n",
       "count                         1086511  \n",
       "unique                           7578  \n",
       "top     FOREST HILLS STATION UPPER BU  \n",
       "freq                             2481  "
      ]
     },
     "execution_count": 7,
     "metadata": {},
     "output_type": "execute_result"
    }
   ],
   "source": [
    "df.describe(include=['object'])"
   ]
  },
  {
   "cell_type": "code",
   "execution_count": 8,
   "id": "d956bae5",
   "metadata": {},
   "outputs": [
    {
     "data": {
      "text/plain": [
       "np.int64(0)"
      ]
     },
     "execution_count": 8,
     "metadata": {},
     "output_type": "execute_result"
    }
   ],
   "source": [
    "df.duplicated().sum()"
   ]
  },
  {
   "cell_type": "markdown",
   "id": "6157da06",
   "metadata": {},
   "source": [
    "### **2. Data cleaning & preprocessing** "
   ]
  },
  {
   "cell_type": "markdown",
   "id": "943b733f",
   "metadata": {},
   "source": [
    "Since the null value is just a single row we can drop it\n"
   ]
  },
  {
   "cell_type": "code",
   "execution_count": 9,
   "id": "301f8cdb",
   "metadata": {},
   "outputs": [],
   "source": [
    "df = df.dropna()"
   ]
  },
  {
   "cell_type": "code",
   "execution_count": 10,
   "id": "ae0a1cc0",
   "metadata": {},
   "outputs": [],
   "source": [
    "df = df.drop(columns=['mode'])"
   ]
  },
  {
   "cell_type": "markdown",
   "id": "3fd16f84",
   "metadata": {},
   "source": [
    "### **3. Define questions**\n",
    "\n",
    "How did ridership change before and after the pandemic, across routes, stops, and time periods?\n",
    "- Did average ridership drop after COVID-19?\n",
    "- Which routes or stops recovered the fastest?\n",
    "- Did travel patterns shift across times of day or days of the week?"
   ]
  },
  {
   "cell_type": "markdown",
   "id": "eb3b94ab",
   "metadata": {},
   "source": [
    "#### **3.1. Visual Analysis** "
   ]
  },
  {
   "cell_type": "markdown",
   "id": "e02f5044",
   "metadata": {},
   "source": [
    "Below we created a new column Pre-pandemic (2016–2019) and Post-pandemic (2020 onwards). To choose the cutoff date we used WHO's pandemic declaration which is March 11,2020."
   ]
  },
  {
   "cell_type": "code",
   "execution_count": 14,
   "id": "ae98c8dd",
   "metadata": {},
   "outputs": [],
   "source": [
    "df['period'] = df['season'].apply(lambda x: 'pre-pandemic' if '2016' <= x[-4:] <= '2019' else 'post-pandemic')"
   ]
  },
  {
   "cell_type": "code",
   "execution_count": 15,
   "id": "6d00ea01",
   "metadata": {},
   "outputs": [
    {
     "data": {
      "text/html": [
       "<div>\n",
       "<style scoped>\n",
       "    .dataframe tbody tr th:only-of-type {\n",
       "        vertical-align: middle;\n",
       "    }\n",
       "\n",
       "    .dataframe tbody tr th {\n",
       "        vertical-align: top;\n",
       "    }\n",
       "\n",
       "    .dataframe thead th {\n",
       "        text-align: right;\n",
       "    }\n",
       "</style>\n",
       "<table border=\"1\" class=\"dataframe\">\n",
       "  <thead>\n",
       "    <tr style=\"text-align: right;\">\n",
       "      <th></th>\n",
       "      <th>average_ons</th>\n",
       "      <th>average_offs</th>\n",
       "      <th>average_load</th>\n",
       "    </tr>\n",
       "    <tr>\n",
       "      <th>period</th>\n",
       "      <th></th>\n",
       "      <th></th>\n",
       "      <th></th>\n",
       "    </tr>\n",
       "  </thead>\n",
       "  <tbody>\n",
       "    <tr>\n",
       "      <th>post-pandemic</th>\n",
       "      <td>0.507090</td>\n",
       "      <td>0.511747</td>\n",
       "      <td>7.971930</td>\n",
       "    </tr>\n",
       "    <tr>\n",
       "      <th>pre-pandemic</th>\n",
       "      <td>0.684245</td>\n",
       "      <td>0.690204</td>\n",
       "      <td>11.210268</td>\n",
       "    </tr>\n",
       "  </tbody>\n",
       "</table>\n",
       "</div>"
      ],
      "text/plain": [
       "               average_ons  average_offs  average_load\n",
       "period                                                \n",
       "post-pandemic     0.507090      0.511747      7.971930\n",
       "pre-pandemic      0.684245      0.690204     11.210268"
      ]
     },
     "execution_count": 15,
     "metadata": {},
     "output_type": "execute_result"
    }
   ],
   "source": [
    "df.groupby('period')[['average_ons', 'average_offs', 'average_load']].mean()\n"
   ]
  },
  {
   "cell_type": "code",
   "execution_count": 23,
   "id": "e354e322",
   "metadata": {},
   "outputs": [
    {
     "data": {
      "image/png": "[encoded data removed]",
      "text/plain": [
       "<Figure size 800x600 with 1 Axes>"
      ]
     },
     "metadata": {},
     "output_type": "display_data"
    }
   ],
   "source": [
    "plt.figure(figsize=(8,6))\n",
    "sns.barplot(x='season', y='average_load', data=df)\n",
    "plt.show()\n"
   ]
  },
  {
   "cell_type": "code",
   "execution_count": 17,
   "id": "0ae5d8f1",
   "metadata": {},
   "outputs": [
    {
     "data": {
      "text/plain": [
       "<Axes: xlabel='period', ylabel='average_load'>"
      ]
     },
     "execution_count": 17,
     "metadata": {},
     "output_type": "execute_result"
    },
    {
     "data": {
      "image/png": "[encoded data removed]",
      "text/plain": [
       "<Figure size 640x480 with 1 Axes>"
      ]
     },
     "metadata": {},
     "output_type": "display_data"
    }
   ],
   "source": [
    "sns.boxplot(x='period', y='average_load', data=df)\n"
   ]
  },
  {
   "cell_type": "code",
   "execution_count": 24,
   "id": "bf23f5dc",
   "metadata": {},
   "outputs": [
    {
     "data": {
      "image/png": "[encoded data removed]",
      "text/plain": [
       "<Figure size 800x600 with 1 Axes>"
      ]
     },
     "metadata": {},
     "output_type": "display_data"
    }
   ],
   "source": [
    "plt.figure(figsize=(8,6))\n",
    "sns.barplot(x='route_id', y='average_load', hue='period', data=df)\n",
    "plt.show()"
   ]
  },
  {
   "cell_type": "markdown",
   "id": "c0999b89",
   "metadata": {},
   "source": [
    "#### **3.2. Statistical Analysis**"
   ]
  },
  {
   "cell_type": "code",
   "execution_count": null,
   "id": "2c02567d",
   "metadata": {},
   "outputs": [],
   "source": []
  }
 ],
 "metadata": {
  "kernelspec": {
   "display_name": ".venv (3.13.7)",
   "language": "python",
   "name": "python3"
  },
  "language_info": {
   "codemirror_mode": {
    "name": "ipython",
    "version": 3
   },
   "file_extension": ".py",
   "mimetype": "text/x-python",
   "name": "python",
   "nbconvert_exporter": "python",
   "pygments_lexer": "ipython3",
   "version": "3.13.7"
  }
 },
 "nbformat": 4,
 "nbformat_minor": 5
}
